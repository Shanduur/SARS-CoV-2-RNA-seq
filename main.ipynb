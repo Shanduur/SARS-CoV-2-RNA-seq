{
 "cells": [
  {
   "cell_type": "code",
   "execution_count": 1,
   "id": "ed9cdb01-88e3-4c3d-991c-916709a7d93f",
   "metadata": {},
   "outputs": [],
   "source": [
    "rm(list = ls())\n",
    "path.data.raw <- \"./Data/GSE/RAW/\"\n",
    "path.data.filtred <- \"./Data/GSE/Filtred/\"\n",
    "path.data.out <- \"./Data/Output/\""
   ]
  },
  {
   "cell_type": "code",
   "execution_count": null,
   "id": "1dcc2d55-9daf-405b-82d6-83b24bfb5900",
   "metadata": {},
   "outputs": [
    {
     "name": "stderr",
     "output_type": "stream",
     "text": [
      "Ładowanie wymaganego pakietu: Seurat\n",
      "\n",
      "Warning message in library(package, lib.loc = lib.loc, character.only = TRUE, logical.return = TRUE, :\n",
      "“nie ma pakietu o nazwie ‘Seurat’”\n",
      "instalowanie dodatkowych zależności ‘sys’, ‘bitops’, ‘stringi’, ‘fs’, ‘codetools’, ‘askpass’, ‘yaml’, ‘tidyselect’, ‘cpp11’, ‘generics’, ‘rprojroot’, ‘gtools’, ‘caTools’, ‘colorspace’, ‘stringr’, ‘sass’, ‘jquerylib’, ‘BH’, ‘sitmo’, ‘gtable’, ‘survival’, ‘globals’, ‘listenv’, ‘parallelly’, ‘isoband’, ‘mgcv’, ‘withr’, ‘plyr’, ‘curl’, ‘mime’, ‘openssl’, ‘R6’, ‘magrittr’, ‘pkgconfig’, ‘zoo’, ‘lattice’, ‘viridisLite’, ‘htmlwidgets’, ‘tidyr’, ‘dplyr’, ‘lazyeval’, ‘crosstalk’, ‘purrr’, ‘data.table’, ‘promises’, ‘RcppTOML’, ‘here’, ‘rappdirs’, ‘gplots’, ‘farver’, ‘labeling’, ‘munsell’, ‘reshape2’, ‘gridExtra’, ‘RcppArmadillo’, ‘httpuv’, ‘xtable’, ‘fontawesome’, ‘sourcetools’, ‘later’, ‘commonmark’, ‘bslib’, ‘cachem’, ‘spatstat.data’, ‘nlme’, ‘rpart’, ‘spatstat.utils’, ‘spatstat.sparse’, ‘abind’, ‘tensor’, ‘goftest’, ‘deldir’, ‘polyclip’, ‘FNN’, ‘RSpectra’, ‘dqrng’, ‘cluster’, ‘cowplot’, ‘fitdistrplus’, ‘future’, ‘future.apply’, ‘ggplot2’, ‘ggrepel’, ‘ggridges’, ‘httr’, ‘ica’, ‘igraph’, ‘irlba’, ‘KernSmooth’, ‘leiden’, ‘lmtest’, ‘MASS’, ‘Matrix’, ‘matrixStats’, ‘miniUI’, ‘patchwork’, ‘pbapply’, ‘plotly’, ‘png’, ‘RANN’, ‘RColorBrewer’, ‘Rcpp’, ‘RcppAnnoy’, ‘reticulate’, ‘ROCR’, ‘Rtsne’, ‘scales’, ‘scattermore’, ‘sctransform’, ‘SeuratObject’, ‘shiny’, ‘spatstat.core’, ‘spatstat.geom’, ‘tibble’, ‘uwot’, ‘RcppEigen’, ‘RcppProgress’\n",
      "\n",
      "\n",
      "Warning message in install.packages(\"Seurat\"):\n",
      "“installation of package ‘fs’ had non-zero exit status”\n"
     ]
    }
   ],
   "source": [
    "if (!require(\"Seurat\")) {\n",
    "    install.packages(\"Seurat\")\n",
    "    library(Seurat)\n",
    "}\n",
    "if (!require(\"hdf5r\")) { \n",
    "    install.packages(\"hdf5r\")\n",
    "    library(hdf5r)\n",
    "}"
   ]
  },
  {
   "cell_type": "code",
   "execution_count": null,
   "id": "aa961c16-38ed-4a32-affe-0762bdb2945f",
   "metadata": {},
   "outputs": [],
   "source": [
    "path.data = path.data.raw\n",
    "\n",
    "h5_files <- list.files(path.data, pattern = \"*.h5\")\n",
    "h5_files <- mapply(paste, path.data, h5_files, sep='')\n",
    "\n",
    "file = h5_files[1]\n",
    "\n",
    "pbmc.data <- Read10X_h5(file)\n",
    "pbmc <- CreateSeuratObject(pbmc.data)\n",
    "rm(pbmc.data)"
   ]
  },
  {
   "cell_type": "code",
   "execution_count": null,
   "id": "bc458c59-0175-494c-a4e8-10d7bfc1f733",
   "metadata": {},
   "outputs": [],
   "source": [
    "pbmc[[\"percent.mt\"]] <- PercentageFeatureSet(pbmc, pattern = \"^MT-\")\n",
    "pbmc[[\"percent.mt\"]]"
   ]
  },
  {
   "cell_type": "markdown",
   "id": "5b4de9d0",
   "metadata": {},
   "source": [
    "# Visualize QC metrics as a violin plot"
   ]
  },
  {
   "cell_type": "code",
   "execution_count": null,
   "id": "8cadfbd9",
   "metadata": {},
   "outputs": [],
   "source": [
    "VlnPlot(pbmc, features = c(\"nFeature_RNA\", \"nCount_RNA\", \"percent.mt\"), ncol = 3, pt.size = 0)"
   ]
  },
  {
   "cell_type": "markdown",
   "id": "6075b5e4",
   "metadata": {},
   "source": [
    "FeatureScatter is typically used to visualize feature-feature relationships, but can be used for anything calculated by the object, i.e. columns in object metadata, PC scores etc."
   ]
  },
  {
   "cell_type": "code",
   "execution_count": null,
   "id": "5084f3e9",
   "metadata": {},
   "outputs": [],
   "source": [
    "plot1 <- FeatureScatter(pbmc, feature1 = \"nCount_RNA\", feature2 = \"percent.mt\")\n",
    "plot2 <- FeatureScatter(pbmc, feature1 = \"nCount_RNA\", feature2 = \"nFeature_RNA\")\n",
    "plot1 + plot2"
   ]
  },
  {
   "cell_type": "code",
   "execution_count": null,
   "id": "ff7619a1",
   "metadata": {},
   "outputs": [],
   "source": [
    "pbmc <- subset(pbmc, subset = nFeature_RNA > 200 & nFeature_RNA < 2500 & percent.mt < 5)\n",
    "\n",
    "pbmc <- NormalizeData(pbmc, normalization.method = \"LogNormalize\", scale.factor = 10000)\n",
    "\n",
    "pbmc <- FindVariableFeatures(pbmc, selection.method = \"vst\", nfeatures = 2000)"
   ]
  },
  {
   "cell_type": "markdown",
   "id": "f870af77",
   "metadata": {},
   "source": [
    "# Identify the 10 most highly variable genes"
   ]
  },
  {
   "cell_type": "code",
   "execution_count": null,
   "id": "0cc63589",
   "metadata": {},
   "outputs": [],
   "source": [
    "top10 <- head(VariableFeatures(pbmc), 10)"
   ]
  },
  {
   "cell_type": "markdown",
   "id": "326a6f1d",
   "metadata": {},
   "source": [
    "Plot variable features with and without labels to identify the 10 most highly variable genes"
   ]
  },
  {
   "cell_type": "code",
   "execution_count": null,
   "id": "014fa2ff",
   "metadata": {},
   "outputs": [],
   "source": [
    "plot1 <- VariableFeaturePlot(pbmc)\n",
    "plot2 <- LabelPoints(plot = plot1, points = top10, repel = TRUE)\n",
    "plot1 + plot2"
   ]
  },
  {
   "cell_type": "code",
   "execution_count": null,
   "id": "794d6490",
   "metadata": {},
   "outputs": [],
   "source": [
    "saveRDS(pbmc, file=paste(path.data.out, '2-cleaned.rds', sep=''))"
   ]
  },
  {
   "cell_type": "code",
   "execution_count": null,
   "id": "aeee6cb6",
   "metadata": {},
   "outputs": [],
   "source": [
    "pbmc <- readRDS(file=paste(path.data.out, '2-cleaned.rds', sep=''))\n",
    "\n",
    "all.genes <- rownames(pbmc)\n",
    "pbmc <- ScaleData(pbmc, features = all.genes)\n",
    "\n",
    "pbmc <- RunPCA(pbmc, features = VariableFeatures(object = pbmc))"
   ]
  },
  {
   "cell_type": "code",
   "execution_count": null,
   "id": "c33c933c",
   "metadata": {},
   "outputs": [],
   "source": [
    "print(pbmc[[\"pca\"]], dims = 1:5, nfeatures = 5)"
   ]
  },
  {
   "cell_type": "code",
   "execution_count": null,
   "id": "73a46680",
   "metadata": {},
   "outputs": [],
   "source": [
    "VizDimLoadings(pbmc, dims = 1:2, reduction = \"pca\")"
   ]
  },
  {
   "cell_type": "code",
   "execution_count": null,
   "id": "f4b17341",
   "metadata": {},
   "outputs": [],
   "source": [
    "DimPlot(pbmc, reduction = \"pca\")"
   ]
  },
  {
   "cell_type": "code",
   "execution_count": null,
   "id": "9bfa55f0",
   "metadata": {},
   "outputs": [],
   "source": [
    "DimHeatmap(pbmc, dims = 1, cells = 500, balanced = TRUE)"
   ]
  },
  {
   "cell_type": "code",
   "execution_count": null,
   "id": "a4fe6d7a",
   "metadata": {},
   "outputs": [],
   "source": [
    "DimHeatmap(pbmc, dims = 1:15, cells = 500, balanced = TRUE)"
   ]
  },
  {
   "cell_type": "code",
   "execution_count": null,
   "id": "0db6ec31",
   "metadata": {},
   "outputs": [],
   "source": [
    "pbmc <- JackStraw(pbmc, num.replicate = 100)\n",
    "pbmc <- ScoreJackStraw(pbmc, dims = 1:20)"
   ]
  },
  {
   "cell_type": "code",
   "execution_count": null,
   "id": "35b2cbc2",
   "metadata": {},
   "outputs": [],
   "source": [
    "JackStrawPlot(pbmc, dims = 1:15)"
   ]
  },
  {
   "cell_type": "code",
   "execution_count": null,
   "id": "28e4ab78",
   "metadata": {},
   "outputs": [],
   "source": [
    "pbmc <- FindNeighbors(pbmc, dims = 1:10)\n",
    "pbmc <- FindClusters(pbmc, resolution = 0.5)"
   ]
  },
  {
   "cell_type": "code",
   "execution_count": null,
   "id": "3cd8598b",
   "metadata": {},
   "outputs": [],
   "source": [
    "head(Idents(pbmc), 5)"
   ]
  },
  {
   "cell_type": "code",
   "execution_count": null,
   "id": "8232a9dd",
   "metadata": {},
   "outputs": [],
   "source": [
    "pbmc <- RunUMAP(pbmc, dims = 1:10)"
   ]
  },
  {
   "cell_type": "code",
   "execution_count": null,
   "id": "1fbefad6",
   "metadata": {},
   "outputs": [],
   "source": [
    "DimPlot(pbmc, reduction = \"umap\")"
   ]
  },
  {
   "cell_type": "code",
   "execution_count": null,
   "id": "85146bb7",
   "metadata": {},
   "outputs": [],
   "source": [
    "saveRDS(pbmc, file = paste(path.data.out, \"3-scaled-pca.rds\", SEP=\"\"))"
   ]
  },
  {
   "cell_type": "code",
   "execution_count": null,
   "id": "153c4df7",
   "metadata": {},
   "outputs": [],
   "source": [
    "cluster2.markers <- FindMarkers(pbmc, \n",
    "                                ident.1 = 2, \n",
    "                                min.pct = 0.25)\n",
    "head(cluster2.markers, n = 5)"
   ]
  },
  {
   "cell_type": "code",
   "execution_count": null,
   "id": "6caec927",
   "metadata": {},
   "outputs": [],
   "source": [
    "cluster5.markers <- FindMarkers(pbmc, \n",
    "                                ident.1 = 5, \n",
    "                                ident.2 = c(0, 3), \n",
    "                                min.pct = 0.25)\n",
    "head(cluster5.markers, n = 5)"
   ]
  },
  {
   "cell_type": "code",
   "execution_count": null,
   "id": "a73c9e43",
   "metadata": {},
   "outputs": [],
   "source": [
    "pbmc.markers <- FindAllMarkers(pbmc, \n",
    "                               only.pos = TRUE, \n",
    "                               min.pct = 0.25, \n",
    "                               logfc.threshold = 0.25)\n",
    "pbmc.markers %>%\n",
    "    group_by(cluster) %>%\n",
    "    slice_max(n = 2, order_by = avg_log2FC)"
   ]
  },
  {
   "cell_type": "code",
   "execution_count": null,
   "id": "6f57ec1f",
   "metadata": {},
   "outputs": [],
   "source": [
    "cluster0.markers <- FindMarkers(pbmc, \n",
    "                                ident.1 = 0, \n",
    "                                logfc.threshold = 0.25, \n",
    "                                test.use = \"roc\", \n",
    "                                only.pos = TRUE)"
   ]
  },
  {
   "cell_type": "code",
   "execution_count": null,
   "id": "1c85ba71",
   "metadata": {},
   "outputs": [],
   "source": [
    "print(pbmc[[\"pca\"]], dims = 1:5, nfeatures = 5)"
   ]
  },
  {
   "cell_type": "code",
   "execution_count": null,
   "id": "8297adfb",
   "metadata": {},
   "outputs": [],
   "source": [
    "VlnPlot(pbmc, features = c(\"SERPINA1\", \"CTSH\"))"
   ]
  },
  {
   "cell_type": "code",
   "execution_count": null,
   "id": "8993a929",
   "metadata": {},
   "outputs": [],
   "source": [
    "VlnPlot(pbmc, features = c(\"SPARCL1\", \"CLDN5\"), slot = \"counts\", log = TRUE)"
   ]
  },
  {
   "cell_type": "code",
   "execution_count": null,
   "id": "8150c8f3",
   "metadata": {},
   "outputs": [],
   "source": [
    "FeaturePlot(pbmc, features = c(\n",
    "  \"SERPINA1\", \"CTSH\", \"APOC1\", \"NPC2\"\n",
    "))"
   ]
  },
  {
   "cell_type": "code",
   "execution_count": null,
   "id": "9e787291",
   "metadata": {},
   "outputs": [],
   "source": [
    "pbmc.markers %>%\n",
    "    group_by(cluster) %>%\n",
    "    top_n(n = 10, wt = avg_log2FC) -> top10"
   ]
  },
  {
   "cell_type": "code",
   "execution_count": null,
   "id": "ae1bf5ef",
   "metadata": {},
   "outputs": [],
   "source": [
    "DoHeatmap(pbmc, features = top10$gene) + NoLegend()"
   ]
  },
  {
   "cell_type": "code",
   "execution_count": null,
   "id": "2c0901c0-a2e9-4d3a-98c9-52668a1d5b0c",
   "metadata": {},
   "outputs": [],
   "source": []
  }
 ],
 "metadata": {
  "kernelspec": {
   "display_name": "R",
   "language": "R",
   "name": "ir"
  },
  "language_info": {
   "codemirror_mode": "r",
   "file_extension": ".r",
   "mimetype": "text/x-r-source",
   "name": "R",
   "pygments_lexer": "r",
   "version": "4.1.2"
  }
 },
 "nbformat": 4,
 "nbformat_minor": 5
}
